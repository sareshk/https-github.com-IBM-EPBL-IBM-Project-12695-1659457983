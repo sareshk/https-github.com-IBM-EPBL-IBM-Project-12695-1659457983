{
  "nbformat": 4,
  "nbformat_minor": 0,
  "metadata": {
    "colab": {
      "provenance": [],
      "collapsed_sections": []
    },
    "kernelspec": {
      "name": "python3",
      "display_name": "Python 3"
    },
    "language_info": {
      "name": "python"
    }
  },
  "cells": [
    {
      "cell_type": "markdown",
      "source": [
        "# **Importing Packages**"
      ],
      "metadata": {
        "id": "ZYNipoPig9T2"
      }
    },
    {
      "cell_type": "code",
      "execution_count": null,
      "metadata": {
        "id": "bX1ln9IQPrws"
      },
      "outputs": [],
      "source": [
        "from tensorflow.keras.models import Sequential\n",
        "from tensorflow.keras.layers import Convolution2D,MaxPooling2D,Flatten,Dense\n",
        "from tensorflow.keras.preprocessing.image import ImageDataGenerator as idm\n",
        "import numpy as np\n",
        "import warnings\n",
        "#Supressing warnings\n",
        "warnings.filterwarnings('ignore')"
      ]
    },
    {
      "cell_type": "markdown",
      "source": [
        "**2.Image Augmentation**"
      ],
      "metadata": {
        "id": "muWMBH-ohHTP"
      }
    },
    {
      "cell_type": "code",
      "source": [
        "# Creating augmentation on training variable\n",
        "train_flowers=idm(rescale=1./255,zoom_range=0.2,horizontal_flip=True)\n",
        "\n",
        "# Passing training data to train variable\n",
        "Xtrain = train_flowers.flow_from_directory('/content/drive/MyDrive/flowers',target_size=(76,76),class_mode='categorical',batch_size=100)\n"
      ],
      "metadata": {
        "colab": {
          "base_uri": "https://localhost:8080/"
        },
        "id": "0vcgM5PpP0EL",
        "outputId": "28b5feec-7d5c-47c8-a842-3e7dea2424fe"
      },
      "execution_count": null,
      "outputs": [
        {
          "output_type": "stream",
          "name": "stdout",
          "text": [
            "Found 4317 images belonging to 5 classes.\n"
          ]
        }
      ]
    },
    {
      "cell_type": "code",
      "source": [
        "# Creating augmentation on testing variable\n",
        "test_flowers=idm(rescale=1./255)\n",
        "\n",
        "# Passing testing data to test variable\n",
        "Xtest = test_flowers.flow_from_directory('/content/drive/MyDrive/flowers',target_size=(76,76),class_mode='categorical',batch_size=100)\n"
      ],
      "metadata": {
        "colab": {
          "base_uri": "https://localhost:8080/"
        },
        "id": "JRw1a62ZQUXD",
        "outputId": "f64f0f74-0f93-41c2-d198-04f64c8611bd"
      },
      "execution_count": null,
      "outputs": [
        {
          "output_type": "stream",
          "name": "stdout",
          "text": [
            "Found 4317 images belonging to 5 classes.\n"
          ]
        }
      ]
    },
    {
      "cell_type": "markdown",
      "source": [
        "## **3.Create Model**"
      ],
      "metadata": {
        "id": "e6Fl3Xm-h8CI"
      }
    },
    {
      "cell_type": "code",
      "source": [
        "Flower_model = Sequential()\n",
        "Flower_model.add(Convolution2D(32,(3,3),activation='relu',input_shape=(76,76,3)))\n",
        "Flower_model.add(MaxPooling2D(pool_size=(2,2)))\n",
        "Flower_model.add(Flatten())\n",
        "Flower_model.add(Dense(300,activation='relu'))\n",
        "Flower_model.add(Dense(150,activation='relu'))\n",
        "Flower_model.add(Dense(5,activation='softmax'))"
      ],
      "metadata": {
        "id": "WQfCSYYyRcYp"
      },
      "execution_count": null,
      "outputs": []
    },
    {
      "cell_type": "markdown",
      "source": [
        "# 4. Compile the Model"
      ],
      "metadata": {
        "id": "1CNiabHLiLkQ"
      }
    },
    {
      "cell_type": "code",
      "source": [
        "Flower_model.compile(optimizer='adam',loss='categorical_crossentropy',metrics=['accuracy'])"
      ],
      "metadata": {
        "id": "DQjZ4CwbRfF1"
      },
      "execution_count": null,
      "outputs": []
    },
    {
      "cell_type": "markdown",
      "source": [
        "# 5. Fit the Model"
      ],
      "metadata": {
        "id": "QAoWLN4FiZef"
      }
    },
    {
      "cell_type": "code",
      "source": [
        "Flower_model.fit_generator(Xtrain,steps_per_epoch= len (Xtrain),epochs= 10,validation_data=Xtest,validation_steps= len (Xtest))"
      ],
      "metadata": {
        "colab": {
          "base_uri": "https://localhost:8080/"
        },
        "id": "gKX2CPxZRmhE",
        "outputId": "92579869-abc8-4cfd-e4d2-7fc84f687496"
      },
      "execution_count": null,
      "outputs": [
        {
          "output_type": "stream",
          "name": "stdout",
          "text": [
            "Epoch 1/10\n",
            "44/44 [==============================] - 928s 21s/step - loss: 1.4570 - accuracy: 0.4123 - val_loss: 1.1749 - val_accuracy: 0.5286\n",
            "Epoch 2/10\n",
            "44/44 [==============================] - 64s 1s/step - loss: 1.0832 - accuracy: 0.5724 - val_loss: 1.0501 - val_accuracy: 0.5974\n",
            "Epoch 3/10\n",
            "44/44 [==============================] - 62s 1s/step - loss: 0.9886 - accuracy: 0.6264 - val_loss: 1.0602 - val_accuracy: 0.6020\n",
            "Epoch 4/10\n",
            "44/44 [==============================] - 63s 1s/step - loss: 0.9595 - accuracy: 0.6247 - val_loss: 1.0191 - val_accuracy: 0.6134\n",
            "Epoch 5/10\n",
            "44/44 [==============================] - 63s 1s/step - loss: 0.9065 - accuracy: 0.6470 - val_loss: 0.8031 - val_accuracy: 0.7026\n",
            "Epoch 6/10\n",
            "44/44 [==============================] - 63s 1s/step - loss: 0.8353 - accuracy: 0.6806 - val_loss: 0.8067 - val_accuracy: 0.6996\n",
            "Epoch 7/10\n",
            "44/44 [==============================] - 65s 1s/step - loss: 0.8086 - accuracy: 0.6829 - val_loss: 0.9354 - val_accuracy: 0.6644\n",
            "Epoch 8/10\n",
            "44/44 [==============================] - 63s 1s/step - loss: 0.7834 - accuracy: 0.6977 - val_loss: 0.7101 - val_accuracy: 0.7267\n",
            "Epoch 9/10\n",
            "44/44 [==============================] - 63s 1s/step - loss: 0.7348 - accuracy: 0.7313 - val_loss: 0.6446 - val_accuracy: 0.7614\n",
            "Epoch 10/10\n",
            "44/44 [==============================] - 65s 1s/step - loss: 0.6907 - accuracy: 0.7378 - val_loss: 0.6400 - val_accuracy: 0.7637\n"
          ]
        },
        {
          "output_type": "execute_result",
          "data": {
            "text/plain": [
              "<keras.callbacks.History at 0x7fcd06487290>"
            ]
          },
          "metadata": {},
          "execution_count": 9
        }
      ]
    },
    {
      "cell_type": "markdown",
      "source": [
        "# 7. Save the model"
      ],
      "metadata": {
        "id": "PwN-09Vhip_t"
      }
    },
    {
      "cell_type": "code",
      "source": [
        "Flower_model.save('Flower.h5')"
      ],
      "metadata": {
        "id": "zEVLpIZHX_h8"
      },
      "execution_count": null,
      "outputs": []
    },
    {
      "cell_type": "markdown",
      "source": [
        "# **8. Test the model**"
      ],
      "metadata": {
        "id": "JilMCbcXi8Mh"
      }
    },
    {
      "cell_type": "code",
      "source": [
        "import cv2"
      ],
      "metadata": {
        "id": "6K052_2gfEK5"
      },
      "execution_count": null,
      "outputs": []
    },
    {
      "cell_type": "code",
      "source": [
        "from numpy.lib.type_check import imag\n",
        "test_img=image.load_img('/content/drive/MyDrive/flowers/sunflower/1008566138_6927679c8a.jpg',target_size=(76,76))\n",
        "test_img"
      ],
      "metadata": {
        "colab": {
          "base_uri": "https://localhost:8080/",
          "height": 93
        },
        "id": "CLxdF6mPanTe",
        "outputId": "78b16c54-7f8a-4f74-8724-73bde6d59498"
      },
      "execution_count": null,
      "outputs": [
        {
          "output_type": "execute_result",
          "data": {
            "text/plain": [
              "<PIL.Image.Image image mode=RGB size=76x76 at 0x7FCCFE38FF10>"
            ],
            "image/png": "[encoded data removed]"
          },
          "metadata": {},
          "execution_count": 37
        }
      ]
    },
    {
      "cell_type": "code",
      "source": [
        "x=image.img_to_array(test_img)\n",
        "x=np.expand_dims(x,axis=0)\n",
        "predicted=np.argmax(Flower_model.predict(x))\n",
        "Prediction_category=['daisy','dandelion','rose','sunflower','tulip']\n",
        "Prediction_category[predicted]"
      ],
      "metadata": {
        "colab": {
          "base_uri": "https://localhost:8080/",
          "height": 35
        },
        "id": "1nPeTFWHeee5",
        "outputId": "6fe0f2d9-c1a6-4c6b-9a5c-523e96647656"
      },
      "execution_count": null,
      "outputs": [
        {
          "output_type": "execute_result",
          "data": {
            "text/plain": [
              "'tulip'"
            ],
            "application/vnd.google.colaboratory.intrinsic+json": {
              "type": "string"
            }
          },
          "metadata": {},
          "execution_count": 38
        }
      ]
    },
    {
      "cell_type": "code",
      "source": [
        "test_img1=image.load_img('/content/drive/MyDrive/flowers/tulip/100930342_92e8746431_n.jpg',target_size=(76,76))\n",
        "test_img1"
      ],
      "metadata": {
        "colab": {
          "base_uri": "https://localhost:8080/",
          "height": 93
        },
        "id": "W6WFwrNoeOou",
        "outputId": "9522c726-b4fd-46c1-e9db-6cc255b2b250"
      },
      "execution_count": null,
      "outputs": [
        {
          "output_type": "execute_result",
          "data": {
            "text/plain": [
              "<PIL.Image.Image image mode=RGB size=76x76 at 0x7FCCFCBACC50>"
            ],
            "image/png": "[encoded data removed]"
          },
          "metadata": {},
          "execution_count": 40
        }
      ]
    },
    {
      "cell_type": "code",
      "source": [
        "x=image.img_to_array(test_img1)\n",
        "x=np.expand_dims(x,axis=0)\n",
        "predicted=np.argmax(Flower_model.predict(x))\n",
        "Prediction_category[predicted]\n"
      ],
      "metadata": {
        "colab": {
          "base_uri": "https://localhost:8080/",
          "height": 35
        },
        "id": "gPe0t5BbbvUp",
        "outputId": "03d7ecfc-bc5e-4039-da19-d1e1e9c37ec7"
      },
      "execution_count": null,
      "outputs": [
        {
          "output_type": "execute_result",
          "data": {
            "text/plain": [
              "'tulip'"
            ],
            "application/vnd.google.colaboratory.intrinsic+json": {
              "type": "string"
            }
          },
          "metadata": {},
          "execution_count": 41
        }
      ]
    },
    {
      "cell_type": "code",
      "source": [
        "test_img2=image.load_img('/content/drive/MyDrive/flowers/rose/10090824183_d02c613f10_m.jpg',target_size=(76,76))\n",
        "test_img2"
      ],
      "metadata": {
        "colab": {
          "base_uri": "https://localhost:8080/",
          "height": 93
        },
        "id": "GOpj_VTPgLbD",
        "outputId": "1049d9ee-8e37-43e7-d119-4a16386c6bc4"
      },
      "execution_count": null,
      "outputs": [
        {
          "output_type": "execute_result",
          "data": {
            "text/plain": [
              "<PIL.Image.Image image mode=RGB size=76x76 at 0x7FCCFDAB5B50>"
            ],
            "image/png": "[encoded data removed]"
          },
          "metadata": {},
          "execution_count": 42
        }
      ]
    },
    {
      "cell_type": "code",
      "source": [
        "x=image.img_to_array(test_img2)\n",
        "x=np.expand_dims(x,axis=0)\n",
        "predicted=np.argmax(Flower_model.predict(x))\n",
        "Prediction_category[predicted]"
      ],
      "metadata": {
        "colab": {
          "base_uri": "https://localhost:8080/",
          "height": 35
        },
        "id": "FpQCL_NLggS2",
        "outputId": "b1874fc4-58b4-46c2-a5a8-05f75bc2dbb7"
      },
      "execution_count": null,
      "outputs": [
        {
          "output_type": "execute_result",
          "data": {
            "text/plain": [
              "'tulip'"
            ],
            "application/vnd.google.colaboratory.intrinsic+json": {
              "type": "string"
            }
          },
          "metadata": {},
          "execution_count": 43
        }
      ]
    },
    {
      "cell_type": "code",
      "source": [],
      "metadata": {
        "id": "lrMriqTwgqzu"
      },
      "execution_count": null,
      "outputs": []
    }
  ]
}